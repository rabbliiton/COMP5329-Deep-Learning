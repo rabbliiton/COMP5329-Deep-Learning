{
 "cells": [
  {
   "cell_type": "code",
   "execution_count": 6,
   "metadata": {},
   "outputs": [],
   "source": [
    "import numpy as np\n",
    "import os"
   ]
  },
  {
   "cell_type": "code",
   "execution_count": 7,
   "metadata": {},
   "outputs": [],
   "source": [
    "# For local dataset\n",
    "test_data=np.load('Assignment1-Dataset/test_data.npy')\n",
    "test_label=np.load('Assignment1-Dataset/test_label.npy')\n",
    "train_data=np.load('Assignment1-Dataset/train_data.npy')\n",
    "train_label=np.load('Assignment1-Dataset/train_label.npy')"
   ]
  },
  {
   "cell_type": "code",
   "execution_count": 8,
   "metadata": {},
   "outputs": [],
   "source": [
    "#Transforming label from number to one-hot\n",
    "new_test_label=np.zeros([len(test_label),10])\n",
    "i=0\n",
    "for label in test_label:\n",
    "    new_test_label[i,label]=1\n",
    "    i=i+1\n",
    "test_label=new_test_label\n",
    "new_train_label=np.zeros([len(train_label),10])\n",
    "i=0\n",
    "for label in train_label:\n",
    "    new_train_label[i,label]=1\n",
    "    i=i+1\n",
    "train_label=new_train_label"
   ]
  },
  {
   "cell_type": "code",
   "execution_count": 9,
   "metadata": {},
   "outputs": [],
   "source": [
    "#separating test dataset to test and validation\n",
    "idx = np.arange(test_data.shape[0])\n",
    "np.random.shuffle(idx)\n",
    "new_test_data=test_data[idx]\n",
    "new_test_label=test_label[idx]\n",
    "test_data=new_test_data[:5000]\n",
    "test_label=new_test_label[:5000]\n",
    "valid_data=new_test_data[5000:]\n",
    "valid_label=new_test_label[5000:]"
   ]
  },
  {
   "cell_type": "code",
   "execution_count": 10,
   "metadata": {},
   "outputs": [],
   "source": [
    "#making sure there is a folder\n",
    "if not os.path.exists('Train-Test-Val'):\n",
    "    os.makedirs('Train-Test-Val')"
   ]
  },
  {
   "cell_type": "code",
   "execution_count": 11,
   "metadata": {},
   "outputs": [],
   "source": [
    "#saving them\n",
    "np.save('Train-Test-Val\\\\test_data',test_data)\n",
    "np.save('Train-Test-Val\\\\test_label',test_label)\n",
    "np.save('Train-Test-Val\\\\train_data',train_data)\n",
    "np.save('Train-Test-Val\\\\train_label',train_label)\n",
    "np.save('Train-Test-Val\\\\valid_data',valid_data)\n",
    "np.save('Train-Test-Val\\\\valid_label',valid_label)"
   ]
  }
 ],
 "metadata": {
  "kernelspec": {
   "display_name": "base",
   "language": "python",
   "name": "python3"
  },
  "language_info": {
   "codemirror_mode": {
    "name": "ipython",
    "version": 3
   },
   "file_extension": ".py",
   "mimetype": "text/x-python",
   "name": "python",
   "nbconvert_exporter": "python",
   "pygments_lexer": "ipython3",
   "version": "3.9.16"
  },
  "orig_nbformat": 4
 },
 "nbformat": 4,
 "nbformat_minor": 2
}

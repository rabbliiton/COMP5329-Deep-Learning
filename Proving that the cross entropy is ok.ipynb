{
 "cells": [
  {
   "cell_type": "code",
   "execution_count": 34,
   "metadata": {},
   "outputs": [],
   "source": [
    "import numpy as np"
   ]
  },
  {
   "cell_type": "code",
   "execution_count": 35,
   "metadata": {},
   "outputs": [],
   "source": [
    "#Class to choosing and generating the Activation function\n",
    "class Activation(object):\n",
    "    def __softmax(self,x):\n",
    "        self.input=x\n",
    "        self.output=np.zeros(self.input.shape)\n",
    "        for i in range(self.input.shape[0]):\n",
    "            in_r=x[i]\n",
    "            output=np.exp(in_r)/(sum(np.exp(in_r)))\n",
    "            self.output[i]=output\n",
    "        return self.output\n",
    "    def __softmax_deriv(self,delta):\n",
    "        doutput=np.zeros(self.input.shape)\n",
    "        for i in range(self.input.shape[0]):\n",
    "            out_r=self.output[i]\n",
    "            delta_r=delta[i]\n",
    "            out_r=np.diag(out_r)-np.outer(out_r,out_r)\n",
    "            out_r=np.dot(out_r,delta_r)\n",
    "            doutput[i]=out_r\n",
    "        # doutput=np.mean(doutput,axis=0)\n",
    "        return doutput\n",
    "# when instantiating a Activation class, choosing the activation function when initialization\n",
    "    def __init__(self,activation='softmax'):\n",
    "        if activation=='softmax':\n",
    "            self.forward=self.__softmax\n",
    "            self.backward = self.__softmax_deriv\n",
    "            self.predict=self.forward"
   ]
  },
  {
   "cell_type": "code",
   "execution_count": 36,
   "metadata": {},
   "outputs": [],
   "source": [
    "def cross_entropy(y,y_hat):\n",
    "    #1e-7 to avoid 0\n",
    "    loss=-np.sum(y*np.log(y_hat+1e-7),axis=1)\n",
    "    delta=y_hat-y\n",
    "    # delta=-y/y_hat\n",
    "    loss=np.mean(loss)\n",
    "    return loss,delta\n",
    "#will not skip softmax backward\n",
    "def cross_entropy_raw(y,y_hat):\n",
    "    #1e-7 to avoid 0\n",
    "    loss=-np.sum(y*np.log(y_hat+1e-7),axis=1)\n",
    "    # delta=y_hat-y\n",
    "    delta=-y/y_hat\n",
    "    loss=np.mean(loss)\n",
    "    return loss,delta"
   ]
  },
  {
   "cell_type": "code",
   "execution_count": 37,
   "metadata": {},
   "outputs": [],
   "source": [
    "#generating random x and label y\n",
    "x=np.random.randn(5, 8)\n",
    "y=np.zeros([5,8])\n",
    "for i in range(len(y)):\n",
    "    idx=np.random.randint(0,5)\n",
    "    y[i,idx]=1"
   ]
  },
  {
   "cell_type": "code",
   "execution_count": 38,
   "metadata": {},
   "outputs": [],
   "source": [
    "sf=Activation('softmax')"
   ]
  },
  {
   "cell_type": "code",
   "execution_count": 39,
   "metadata": {},
   "outputs": [
    {
     "name": "stdout",
     "output_type": "stream",
     "text": [
      "same\n"
     ]
    }
   ],
   "source": [
    "y_hat=sf.forward(x)\n",
    "loss, delta=cross_entropy(y,y_hat)\n",
    "loss, delta_raw=cross_entropy_raw(y,y_hat)\n",
    "delta_raw=sf.backward(delta_raw)\n",
    "output=delta_raw/delta\n",
    "if output.any()!=1:\n",
    "    print('different')\n",
    "else:\n",
    "    print('same')"
   ]
  }
 ],
 "metadata": {
  "kernelspec": {
   "display_name": "base",
   "language": "python",
   "name": "python3"
  },
  "language_info": {
   "codemirror_mode": {
    "name": "ipython",
    "version": 3
   },
   "file_extension": ".py",
   "mimetype": "text/x-python",
   "name": "python",
   "nbconvert_exporter": "python",
   "pygments_lexer": "ipython3",
   "version": "3.9.16"
  },
  "orig_nbformat": 4
 },
 "nbformat": 4,
 "nbformat_minor": 2
}
